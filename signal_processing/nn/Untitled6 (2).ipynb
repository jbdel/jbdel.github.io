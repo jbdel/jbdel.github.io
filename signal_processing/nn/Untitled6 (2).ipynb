{
  "nbformat": 4,
  "nbformat_minor": 0,
  "metadata": {
    "colab": {
      "name": "Untitled6.ipynb",
      "version": "0.3.2",
      "provenance": []
    },
    "kernelspec": {
      "name": "python3",
      "display_name": "Python 3"
    },
    "accelerator": "GPU"
  },
  "cells": [
    {
      "cell_type": "code",
      "metadata": {
        "id": "8FcX8Ke3yhXL",
        "colab_type": "code",
        "colab": {}
      },
      "source": [
        "import torch.nn as nn\n",
        "import torch\n",
        "from sklearn.datasets import make_blobs\n",
        "import numpy as np\n",
        "import matplotlib\n",
        "import matplotlib.pyplot as plt"
      ],
      "execution_count": 0,
      "outputs": []
    },
    {
      "cell_type": "code",
      "metadata": {
        "id": "dohdS-3v1T_E",
        "colab_type": "code",
        "colab": {
          "base_uri": "https://localhost:8080/",
          "height": 34
        },
        "outputId": "8fcb6fc5-5623-492f-8da1-d598a6b87308"
      },
      "source": [
        "X_cpu, y_cpu = make_blobs(n_samples=40, centers=2, random_state=6)\n",
        "\n",
        "# transformation des inputs numpy vers torch\n",
        "X = torch.from_numpy(X_cpu).cuda().float()\n",
        "y = torch.from_numpy(y_cpu).cuda().float()\n",
        "\n",
        "# network dimensions\n",
        "n_input_dim = X.shape[1]\n",
        "n_output = 1  # Number of output nodes = 1 for binary classifier\n",
        "\n",
        "# Build your network\n",
        "net = nn.Linear(n_input_dim, 1)\n",
        "net.cuda()"
      ],
      "execution_count": 17,
      "outputs": [
        {
          "output_type": "execute_result",
          "data": {
            "text/plain": [
              "Linear(in_features=2, out_features=1, bias=True)"
            ]
          },
          "metadata": {
            "tags": []
          },
          "execution_count": 17
        }
      ]
    },
    {
      "cell_type": "code",
      "metadata": {
        "id": "cj_Yy-Vo1gZh",
        "colab_type": "code",
        "colab": {
          "base_uri": "https://localhost:8080/",
          "height": 187
        },
        "outputId": "8881a788-06f1-4fda-d942-51f1227a7e01"
      },
      "source": [
        "\n",
        "loss_func = nn.BCEWithLogitsLoss() #fonction de la loss\n",
        "learning_rate = 0.001 #pas d'apprentissage\n",
        "optimizer = torch.optim.SGD(net.parameters(), lr=learning_rate) # descente de gradient\n",
        "\n",
        "num_iterations = 100\n",
        "batch_size = 2\n",
        "for i in range(num_iterations):\n",
        "    rand = np.random.choice(X.shape[0], 2)\n",
        "    input = X[rand]\n",
        "    target = y[rand]\n",
        "\n",
        "    # forward pass\n",
        "    prob = net(input)\n",
        "\n",
        "    #calcul de la loss\n",
        "    loss = loss_func(prob, target.reshape(-1,1))\n",
        "\n",
        "    #mis à jour du réseau\n",
        "    loss.backward()\n",
        "    optimizer.step()\n",
        "\n",
        "    #print de la loss\n",
        "    if i%10==0:\n",
        "        print(\"Iter {} - loss: {:.2f}\".format(i,loss.item()))\n"
      ],
      "execution_count": 18,
      "outputs": [
        {
          "output_type": "stream",
          "text": [
            "Iter 0 - loss: 2.36\n",
            "Iter 10 - loss: 1.63\n",
            "Iter 20 - loss: 1.23\n",
            "Iter 30 - loss: 0.71\n",
            "Iter 40 - loss: 0.26\n",
            "Iter 50 - loss: 0.02\n",
            "Iter 60 - loss: 0.00\n",
            "Iter 70 - loss: 0.01\n",
            "Iter 80 - loss: 0.00\n",
            "Iter 90 - loss: 0.00\n"
          ],
          "name": "stdout"
        }
      ]
    },
    {
      "cell_type": "code",
      "metadata": {
        "id": "syeutPbt17Xz",
        "colab_type": "code",
        "colab": {
          "base_uri": "https://localhost:8080/",
          "height": 265
        },
        "outputId": "6ee396e1-a02d-46ca-8092-3e23d94dabcb"
      },
      "source": [
        "x_min, x_max = X_cpu[:, 0].min() - 1, X_cpu[:, 0].max() + 1\n",
        "y_min, y_max = X_cpu[:, 1].min() - 1, X_cpu[:, 1].max() + 1\n",
        "\n",
        "spacing = min(x_max - x_min, y_max - y_min) / 100\n",
        "\n",
        "\n",
        "xx, yy = np.meshgrid(np.arange(x_min, x_max, spacing),\n",
        "                     np.arange(y_min, y_max, spacing))\n",
        "\n",
        "input = torch.from_numpy(np.c_[xx.ravel(), yy.ravel()]).cuda().float()\n",
        "\n",
        "Z = net(input)\n",
        "\n",
        "Z = Z.detach().cpu().numpy()\n",
        "# Put the result into a color plot\n",
        "Z = Z.reshape(xx.shape)\n",
        "Z = np.where(Z<0.5,0,1)\n",
        "\n",
        "cmap = matplotlib.colors.ListedColormap([\"lightgrey\",\"skyblue\"])\n",
        "plt.contourf(xx, yy, Z, cmap=cmap)\n",
        "\n",
        "plt.axis('off')\n",
        "\n",
        "# Plot also the training points\n",
        "plt.scatter(X_cpu[:, 0], X_cpu[:, 1], c=y_cpu, facecolors='none', edgecolors='k')\n",
        "plt.show()\n"
      ],
      "execution_count": 19,
      "outputs": [
        {
          "output_type": "display_data",
          "data": {
            "image/png": "[encoded data removed]",
            "text/plain": [
              "<Figure size 432x288 with 1 Axes>"
            ]
          },
          "metadata": {
            "tags": []
          }
        }
      ]
    }
  ]
}